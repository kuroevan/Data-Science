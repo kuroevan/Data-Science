{
 "cells": [
  {
   "cell_type": "markdown",
   "metadata": {},
   "source": [
    "# Signal frontier analysis\n",
    "by: Adam Tschannen and Evan Giakoumakis"
   ]
  },
  {
   "cell_type": "markdown",
   "metadata": {},
   "source": [
    "# Abstract\n",
    "The finance industry's competitive advantage is being able to access more information faster and then being able to act upon it. The advances in computing power have not only allowed for the ability to process and use the mass amounts of data but also apply new methods on analyzation from different industries. One such method which was originally used in electrical engineering is the signal frontier methods. This method is used in engineering to analyze electrical signals. However, the advances in computing power has given the finance industry the ability to apply these techniques to time series data. Since signal processing measures a numeric variable against an independent variable like time it can easily be applied to time series data. This is because time series data is structured so that we have an observation of something at specific points in time. Since the stocks go up in down and have a price a specific time, signal frontier analysis can pick up and find signals that tell you to buy or sell at a more precise and rapid paces the once previously possible."
   ]
  },
  {
   "cell_type": "markdown",
   "metadata": {},
   "source": [
    "# Introduction\n",
    "\n",
    "After examining a plethora of financial data, it slowly becomes evident that there is much chaos, and little order. Often times logically sound and profound patterns surface, and then disappear rapidly as things change from day to day. That raises the question of how can we separate the signal from the noise, what has value from what does not? Attempting to answer this tough question, or at least shine some light on the processes and guidelines employed is the goal of this analysis.\n",
    "\n",
    "Before we jump into hedge fund portfolios and high frequency trading we will understand the basics of what a signal is. A signal was developed in the electrical engineering field to explain a behavior. For instance, it measures voltage or can measure and differentiae sound into voltage or voltage into sound. A signal at its most basic form measures a numeric variable in relation to an independent variable. You can think of the numeric variable as a stock's price and the independent variable as time. This is why signal frontier analysis is so transferable to the finance industry because from a far, and at its core, it acts the same way as a time series analysis. \n",
    "\n",
    "Within the financial industry there are two schools of thought for trading stocks. One is fundamental trading which is when we look at all data to analyze how a stock will do except for the trading patterns. The opposite of this theory is technical training which only looks at the trading patterns. These two philosophies’ can be categorized as long-term trading and short-term trading where short term can be anywhere from a second to a year where long term can extend to many years. The technique of signal frontier analysis applies explicitly to technical trading. Like we said before, signal analysis measures a numeric variable against an independent variable like time which is exactly what time series does; it measures stock price of set time periods. This only takes into the performance on that stock without taking into consideration of other factors. \n"
   ]
  },
  {
   "cell_type": "markdown",
   "metadata": {},
   "source": [
    "# Method Selection\n",
    "\n",
    "The method selected to be analyzed in this notebook is Signal Frontier. Signal Frontier Analysis is an econometric technique used to analyze a basket of securities and find the optimal holding and look-back periods associated with it. \n",
    "\n",
    "In the United States, a security is a tradable financial asset of any kind. It can be widely categorized into two groups: equities and debts. Securities represent an investment and a means by which the issuer (municipalities and companies) can raise new capital. Depending on the institution this can be preferred to financing using a bank loan.\n",
    "\n",
    "Holding refers to an investing strategy practiced mostly by passive investors. An investor using this strategy, selects stocks, and usually ignores the day-to-day or even month-to-month fluctuations in the stock's price. The investor lets his or her money increase with the growth of the overall market.\n",
    "\n",
    "A look-back period is a condition that bases the purchase price of a stock not on its price at the time of purchase but, rather, on the price either at the beginning of the offering period or at the end of the purchase period. \n",
    "\n",
    "The method for calculating the risk-adjusted return is the Sharpe Ratio. The Sharpe Ratio indicates the average return minus the risk-free return divided by the standard deviation of return on an investment. The higher the value the greater the returns. \n",
    "\n",
    "Back testing is commonly used to test various algorithms and portfolios as well as compare a portfolio’s comprehensive risk-return characteristics. Portfolio managers normally use it, in order to help them determine whether additional allocation of assets can improve their returns.\n"
   ]
  },
  {
   "cell_type": "markdown",
   "metadata": {},
   "source": []
  },
  {
   "cell_type": "code",
   "execution_count": 1,
   "metadata": {},
   "outputs": [
    {
     "name": "stdout",
     "output_type": "stream",
     "text": [
      "5y\n",
      "5y\n",
      "5y\n",
      "5y\n"
     ]
    }
   ],
   "source": [
    "import datetime\n",
    "import matplotlib.pyplot as plt\n",
    "import pandas as pd\n",
    "import numpy as np\n",
    "import matplotlib.pyplot as plt\n",
    "from pandas import Series, DataFrame\n",
    "pd.core.common.is_list_like = pd.api.types.is_list_like\n",
    "start_dt=datetime.datetime(2014,1,1)\n",
    "end_dt=datetime.datetime(2018,1,1)\n",
    "from pandas_datareader import data as web\n",
    "stock='TSLA'\n",
    "px=pd.DataFrame({'TSLA':web.DataReader(stock,'iex', start_dt, end_dt)['close']})\n",
    "names=['MS', 'GE', 'FB']\n",
    "for stock in names:\n",
    "    while True:\n",
    "        try:\n",
    "            px[stock]=web.DataReader(stock,'iex', start_dt, end_dt)['close']\n",
    "            break\n",
    "        except:\n",
    "            print('Unable to read stock: {0}'.format(stock))\n",
    "            print('trying again')\n",
    "px.index=pd.to_datetime(px.index)"
   ]
  },
  {
   "cell_type": "markdown",
   "metadata": {},
   "source": [
    "First we define the time frame we want to analyze. Next import the stocks we want to analyze. In this case we are going to analyze Microsoft, General Electric, Facebook, and Tesla starting January 1, 2014 and ending May 1, 2018. Finally, we fetched this data from Yahoo finance. "
   ]
  },
  {
   "cell_type": "code",
   "execution_count": 2,
   "metadata": {},
   "outputs": [],
   "source": [
    "%matplotlib inline"
   ]
  },
  {
   "cell_type": "code",
   "execution_count": 3,
   "metadata": {},
   "outputs": [],
   "source": [
    "# # fill missing stock values using forward fill method\n",
    "px_append = px.asfreq('B').fillna(method='pad')"
   ]
  },
  {
   "cell_type": "markdown",
   "metadata": {},
   "source": [
    "Now that we have our data we used the 'pad' method to fill the missing data values. With this technique, if there is a missing value it takes the previous value and appends on the next missing value. Because there are so many values this techniques offers relatively low risk and quick implementation. Also, with stock market data, prices rarely jump or fall a significant amount then correct immediately. Because of this logic, we chose to replace missing data using the 'pad' method uses the last known value.\n",
    "\n"
   ]
  },
  {
   "cell_type": "code",
   "execution_count": 4,
   "metadata": {},
   "outputs": [
    {
     "name": "stdout",
     "output_type": "stream",
     "text": [
      "<class 'pandas.core.frame.DataFrame'>\n",
      "DatetimeIndex: 1007 entries, 2014-01-02 to 2017-12-29\n",
      "Data columns (total 4 columns):\n",
      "TSLA    1007 non-null float64\n",
      "MS      1007 non-null float64\n",
      "GE      1007 non-null float64\n",
      "FB      1007 non-null float64\n",
      "dtypes: float64(4)\n",
      "memory usage: 79.3 KB\n"
     ]
    }
   ],
   "source": [
    "px.info()"
   ]
  },
  {
   "cell_type": "code",
   "execution_count": 5,
   "metadata": {},
   "outputs": [
    {
     "name": "stdout",
     "output_type": "stream",
     "text": [
      "<class 'pandas.core.frame.DataFrame'>\n",
      "DatetimeIndex: 1042 entries, 2014-01-02 to 2017-12-29\n",
      "Freq: B\n",
      "Data columns (total 4 columns):\n",
      "TSLA    1042 non-null float64\n",
      "MS      1042 non-null float64\n",
      "GE      1042 non-null float64\n",
      "FB      1042 non-null float64\n",
      "dtypes: float64(4)\n",
      "memory usage: 40.7 KB\n"
     ]
    },
    {
     "data": {
      "text/html": [
       "<div>\n",
       "<style scoped>\n",
       "    .dataframe tbody tr th:only-of-type {\n",
       "        vertical-align: middle;\n",
       "    }\n",
       "\n",
       "    .dataframe tbody tr th {\n",
       "        vertical-align: top;\n",
       "    }\n",
       "\n",
       "    .dataframe thead th {\n",
       "        text-align: right;\n",
       "    }\n",
       "</style>\n",
       "<table border=\"1\" class=\"dataframe\">\n",
       "  <thead>\n",
       "    <tr style=\"text-align: right;\">\n",
       "      <th></th>\n",
       "      <th>TSLA</th>\n",
       "      <th>MS</th>\n",
       "      <th>GE</th>\n",
       "      <th>FB</th>\n",
       "    </tr>\n",
       "    <tr>\n",
       "      <th>date</th>\n",
       "      <th></th>\n",
       "      <th></th>\n",
       "      <th></th>\n",
       "      <th></th>\n",
       "    </tr>\n",
       "  </thead>\n",
       "  <tbody>\n",
       "    <tr>\n",
       "      <th>2017-12-25</th>\n",
       "      <td>325.20</td>\n",
       "      <td>52.2392</td>\n",
       "      <td>17.2373</td>\n",
       "      <td>177.20</td>\n",
       "    </tr>\n",
       "    <tr>\n",
       "      <th>2017-12-26</th>\n",
       "      <td>317.29</td>\n",
       "      <td>51.9915</td>\n",
       "      <td>17.2869</td>\n",
       "      <td>175.99</td>\n",
       "    </tr>\n",
       "    <tr>\n",
       "      <th>2017-12-27</th>\n",
       "      <td>311.64</td>\n",
       "      <td>52.0906</td>\n",
       "      <td>17.2373</td>\n",
       "      <td>177.62</td>\n",
       "    </tr>\n",
       "    <tr>\n",
       "      <th>2017-12-28</th>\n",
       "      <td>315.36</td>\n",
       "      <td>52.1698</td>\n",
       "      <td>17.2175</td>\n",
       "      <td>177.92</td>\n",
       "    </tr>\n",
       "    <tr>\n",
       "      <th>2017-12-29</th>\n",
       "      <td>311.35</td>\n",
       "      <td>51.9915</td>\n",
       "      <td>17.3068</td>\n",
       "      <td>176.46</td>\n",
       "    </tr>\n",
       "  </tbody>\n",
       "</table>\n",
       "</div>"
      ],
      "text/plain": [
       "              TSLA       MS       GE      FB\n",
       "date                                        \n",
       "2017-12-25  325.20  52.2392  17.2373  177.20\n",
       "2017-12-26  317.29  51.9915  17.2869  175.99\n",
       "2017-12-27  311.64  52.0906  17.2373  177.62\n",
       "2017-12-28  315.36  52.1698  17.2175  177.92\n",
       "2017-12-29  311.35  51.9915  17.3068  176.46"
      ]
     },
     "execution_count": 5,
     "metadata": {},
     "output_type": "execute_result"
    }
   ],
   "source": [
    "# show collected stock dataset\n",
    "px_append.info()\n",
    "px_append.head()\n",
    "px_append.tail()"
   ]
  },
  {
   "cell_type": "markdown",
   "metadata": {},
   "source": [
    "As we can see, our original data set had 1007 observations where as our imputed data set has no missing data with 1042 records. Of note, the stock market is open 252 days a year which adds up to 1008 days of trading over 4 years. This would show the non imputed data is correct for our analysis. However with the 9 holidays and three half days of closed non trading, we were able to take the last know value, impute it, and create a complete data set. This method allows for little bias and give a complete data set which allows us to run a time series analysis.\n",
    "\n"
   ]
  },
  {
   "cell_type": "code",
   "execution_count": 8,
   "metadata": {},
   "outputs": [],
   "source": [
    "plt.close('all')"
   ]
  },
  {
   "cell_type": "code",
   "execution_count": 9,
   "metadata": {},
   "outputs": [
    {
     "data": {
      "text/plain": [
       "<matplotlib.axes._subplots.AxesSubplot at 0x10f3e1ac8>"
      ]
     },
     "execution_count": 9,
     "metadata": {},
     "output_type": "execute_result"
    },
    {
     "data": {
      "image/png": "[encoded data removed]",
      "text/plain": [
       "<Figure size 432x288 with 1 Axes>"
      ]
     },
     "metadata": {},
     "output_type": "display_data"
    }
   ],
   "source": [
    "# fill missing values using forward fill method\n",
    "px = px.asfreq('B').fillna(method='pad') \n",
    "# calculate percent change\n",
    "rets = px.pct_change() \n",
    "# calculate the cumulative product of elements\n",
    "disp = ((1 + rets).cumprod() - 1) \n",
    "# plot results\n",
    "disp.plot(title='5 Year Plot of Stock Variation')\n",
    "#disp.xlabel('Date')\n",
    "#plt.ylabel('Percent Change')\n",
    "#plt.title('5 Year Plot of Stock Variation')\n"
   ]
  },
  {
   "cell_type": "markdown",
   "metadata": {},
   "source": [
    "In the plot above we can see the performance of our stocks. At first glance we can see a positive trend for Facebook, a relatively change of 0 for TSLA except from 2017 when the change starts to increase, a relative 0 change for GE except for a decline starting around 2017, and a wave of ups and downs for MS with a trend moving upwards starting in 2016."
   ]
  },
  {
   "cell_type": "code",
   "execution_count": 10,
   "metadata": {},
   "outputs": [],
   "source": [
    "# Function to compute momentum\n",
    "def calc_mom(price, lookback, lag):\n",
    "    mom_ret = price.shift(lag).pct_change(lookback)\n",
    "    ranks = mom_ret.rank(axis=1, ascending=False)\n",
    "    demeaned = ranks.subtract(ranks.mean(axis=1), axis=0)\n",
    "    return demeaned.divide(demeaned.std(axis=1), axis=0)"
   ]
  },
  {
   "cell_type": "markdown",
   "metadata": {},
   "source": [
    "Next we compute the momentum over a specific period and rank the momentum in descending order and standardize."
   ]
  },
  {
   "cell_type": "code",
   "execution_count": 11,
   "metadata": {},
   "outputs": [],
   "source": [
    "# Function to assist us in computing portfolio for a particular period as well as holding period \n",
    "# returns total Sharpe ratio\n",
    "compound = lambda x : (1 + x).prod() - 1\n",
    "daily_sr = lambda x: x.mean() / x.std()\n",
    "\n",
    "def strat_sr(prices, lb, hold):\n",
    "    # Compute portfolio weights\n",
    "    freq = '%dB' % hold\n",
    "    port = calc_mom(prices, lb, lag=1)\n",
    "\n",
    "    daily_rets = prices.pct_change()\n",
    "\n",
    "    # Compute portfolio returns\n",
    "    port = port.shift(1).resample(freq, how='first')\n",
    "    returns = daily_rets.resample(freq, how=compound)\n",
    "    port_rets = (port * returns).sum(axis=1)\n",
    "\n",
    "    return daily_sr(port_rets) * np.sqrt(252 / hold)"
   ]
  },
  {
   "cell_type": "code",
   "execution_count": 12,
   "metadata": {},
   "outputs": [
    {
     "name": "stdout",
     "output_type": "stream",
     "text": [
      "Sharpe Ratio for holding period 30 days and weight 70:  -0.140367344801\n",
      "Sharpe Ratio for holding period 30 days and weight 365:  0.0201651932634\n",
      "Sharpe Ratio for holding period 30 days and weight 700:  0.323914610636\n"
     ]
    },
    {
     "name": "stderr",
     "output_type": "stream",
     "text": [
      "/Users/atschannen/anaconda3/envs/Adam/lib/python3.6/site-packages/ipykernel_launcher.py:14: FutureWarning: how in .resample() is deprecated\n",
      "the new syntax is .resample(...).first()\n",
      "  \n",
      "/Users/atschannen/anaconda3/envs/Adam/lib/python3.6/site-packages/ipykernel_launcher.py:15: FutureWarning: how in .resample() is deprecated\n",
      "the new syntax is .resample(...)..apply(<func>)\n",
      "  from ipykernel import kernelapp as app\n"
     ]
    }
   ],
   "source": [
    "sr1 = strat_sr(px, 70, 30)\n",
    "print(\"Sharpe Ratio for holding period 30 days and weight 70: \",sr1)\n",
    "sr2 = strat_sr(px, 365, 30)\n",
    "print(\"Sharpe Ratio for holding period 30 days and weight 365: \",sr2)\n",
    "sr3 = strat_sr(px, 700, 30)\n",
    "print(\"Sharpe Ratio for holding period 30 days and weight 700: \",sr3)\n"
   ]
  },
  {
   "cell_type": "markdown",
   "metadata": {},
   "source": [
    "Now that we have the momentum computed, ranked, and standardized we compute a portfolio for a particular weight as well as a holding period. The sharp ratio helps us define a strategy for trading. The px represents are portfolio of stocks, the first number is how far back we establish our weights and the final variable shows how long to hold the stocks for this portfolio. \n",
    "\n",
    "Please note, the higher a sharp ratio is the better returns you will see on that specific portfolio. As we can see, the weights we assign can have dramatic effect while keeping the holding period static. A range of 70-700 in weights can either show a loss of 14% or a gain of 32%. In general, stock prices will tend to act more similarly to their most recent price than they would a year ago. This means that long look back periods might not be the best strategy for short holding periods. On the other side of this, short look back periods might not be the best for long holding periods so one must carefully select their strategy.\n"
   ]
  },
  {
   "cell_type": "code",
   "execution_count": 13,
   "metadata": {},
   "outputs": [
    {
     "name": "stderr",
     "output_type": "stream",
     "text": [
      "/Users/atschannen/anaconda3/envs/Adam/lib/python3.6/site-packages/ipykernel_launcher.py:14: FutureWarning: how in .resample() is deprecated\n",
      "the new syntax is .resample(...).first()\n",
      "  \n",
      "/Users/atschannen/anaconda3/envs/Adam/lib/python3.6/site-packages/ipykernel_launcher.py:15: FutureWarning: how in .resample() is deprecated\n",
      "the new syntax is .resample(...)..apply(<func>)\n",
      "  from ipykernel import kernelapp as app\n"
     ]
    },
    {
     "name": "stdout",
     "output_type": "stream",
     "text": [
      "Lookback Period        20        25        30        35        40        45  \\\n",
      "Holding Period                                                                \n",
      "20              -0.135254 -0.382736 -0.495807 -0.502519 -0.194650 -0.240322   \n",
      "25               0.389180  0.349299  0.790178  0.206502  0.067983  0.091030   \n",
      "30              -0.228311 -0.068138  0.067756 -0.049027  0.239034 -0.119967   \n",
      "35               0.084200 -0.123204 -0.237329  0.362231  0.312570 -0.179491   \n",
      "40              -0.258184 -0.078397 -0.321043 -0.482147 -0.191463 -0.452880   \n",
      "45              -0.001159 -0.330961 -0.448093 -0.726818 -0.675571 -0.222178   \n",
      "50               0.186726  0.001019  0.159389 -0.279918 -0.341265 -0.334690   \n",
      "55              -0.044649 -0.225531 -0.227806 -0.359216 -0.294932 -0.214350   \n",
      "60              -0.043311  0.124197  0.056568 -0.006743  0.003954 -0.249225   \n",
      "65              -0.524536 -0.364541 -0.430239 -0.456708 -0.726229 -0.567441   \n",
      "70              -0.557676 -0.467963 -0.715618 -0.470898 -0.569200 -0.843573   \n",
      "75               0.268676  0.034169  0.078549 -0.338356 -0.263818 -0.243050   \n",
      "80              -0.293358  0.033102 -0.165982 -0.544711 -0.673185 -1.167340   \n",
      "85              -0.144563 -0.347563 -0.361193 -0.383248 -0.328324 -0.218839   \n",
      "\n",
      "Lookback Period        50        55        60        65        70        75  \\\n",
      "Holding Period                                                                \n",
      "20              -0.385331 -0.448165 -0.237442 -0.723492 -0.764634 -0.763500   \n",
      "25               0.265792 -0.032107 -0.040272 -0.252065 -0.095353 -0.188435   \n",
      "30              -0.382693  0.124325  0.251593 -0.135522 -0.140367 -0.558243   \n",
      "35               0.136290 -0.598136 -0.195339 -0.448579 -0.398899 -0.219153   \n",
      "40              -0.471551 -0.550391 -0.313727 -0.129756 -0.143319 -0.072589   \n",
      "45              -0.282272 -0.008935 -0.361423 -0.306441 -0.009893  0.113187   \n",
      "50              -0.126339 -0.095667 -0.143998 -0.104323  0.008544  0.005949   \n",
      "55              -0.325499 -0.046913 -0.105785 -0.256929 -0.253195 -0.088006   \n",
      "60              -0.408520 -0.397042 -0.156483 -0.323824 -0.289836 -0.261548   \n",
      "65              -0.499377 -0.777275 -0.780030 -0.623994 -0.401462 -0.524798   \n",
      "70              -0.780800 -0.911162 -0.549682 -0.652609 -0.505660 -0.347308   \n",
      "75              -0.395388 -0.502255 -0.681822 -0.768307 -0.573910 -0.337146   \n",
      "80              -1.045403 -0.954259 -0.689005 -0.449183 -0.451382 -0.314981   \n",
      "85              -0.050207 -0.130352 -0.286983 -0.331573 -0.249886 -0.147891   \n",
      "\n",
      "Lookback Period        80        85  \n",
      "Holding Period                       \n",
      "20              -0.807555 -0.609354  \n",
      "25              -0.201547 -0.090584  \n",
      "30              -0.756616 -0.452998  \n",
      "35              -0.135565 -0.201745  \n",
      "40              -0.309687 -0.400979  \n",
      "45              -0.051603  0.041661  \n",
      "50               0.072432  0.204689  \n",
      "55              -0.156176 -0.132034  \n",
      "60              -0.378050 -0.318139  \n",
      "65              -0.286464 -0.309749  \n",
      "70              -0.234795 -0.190123  \n",
      "75              -0.547679 -0.384550  \n",
      "80              -0.110288 -0.207263  \n",
      "85              -0.394224 -0.191120  \n"
     ]
    }
   ],
   "source": [
    "# Evaluate strat_sr function over a grid of variables and storing them in a dictianary\n",
    "# Lastly inserting results in a DataFrame\n",
    "from collections import defaultdict\n",
    "\n",
    "lookbacks = range(20, 90, 5)\n",
    "holdings = range(20, 90, 5)\n",
    "dd = defaultdict(dict)\n",
    "for lb in lookbacks:\n",
    "    for hold in holdings:\n",
    "        dd[lb][hold] = strat_sr(px, lb, hold)\n",
    "\n",
    "ddf = DataFrame(dd)\n",
    "ddf.index.name = 'Holding Period'\n",
    "ddf.columns.name = 'Lookback Period'\n",
    "\n",
    "print(ddf)"
   ]
  },
  {
   "cell_type": "markdown",
   "metadata": {},
   "source": [
    "Above we created a grid search to find optimal holding periods and look back periods. We will next visualize our findings so they are easily usable."
   ]
  },
  {
   "cell_type": "markdown",
   "metadata": {},
   "source": [
    "# Results "
   ]
  },
  {
   "cell_type": "code",
   "execution_count": 14,
   "metadata": {},
   "outputs": [],
   "source": [
    "# To visualize our results the heatmap function below uses matplotlib to produce a heatmap \n",
    "import matplotlib.pyplot as plt\n",
    "\n",
    "def heatmap(df, cmap=plt.cm.gray_r):\n",
    "    fig = plt.figure()\n",
    "    ax = fig.add_subplot(111)\n",
    "    axim = ax.imshow(df.values, cmap=cmap, interpolation='nearest')\n",
    "    ax.set_xlabel(df.columns.name)\n",
    "    ax.set_xticks(np.arange(len(df.columns)))\n",
    "    ax.set_xticklabels(list(df.columns))\n",
    "    ax.set_ylabel(df.index.name)\n",
    "    ax.set_yticks(np.arange(len(df.index)))\n",
    "    ax.set_yticklabels(list(df.index))\n",
    "    plt.colorbar(axim)"
   ]
  },
  {
   "cell_type": "code",
   "execution_count": 15,
   "metadata": {},
   "outputs": [
    {
     "data": {
      "image/png": "[encoded data removed]",
      "text/plain": [
       "<Figure size 432x288 with 2 Axes>"
      ]
     },
     "metadata": {},
     "output_type": "display_data"
    }
   ],
   "source": [
    "# Display heatmap of backtest results\n",
    "heatmap(ddf)\n",
    "plt.show()"
   ]
  },
  {
   "cell_type": "markdown",
   "metadata": {},
   "source": [
    "In our heat map above we visualize our results from the methods of using the signal frontier analysis. The heat map shows the best results, signaled as black, and worst returns, signaled as white. We can see in the upper left quadrant, the best combination is a lookback period of 30 and a holding period of 25. These parameters will give us a return of about 35%. On the other side of the spectrum, the worst combination is holding period of 80 with a lookback period of 45 which yields a -95% return."
   ]
  },
  {
   "cell_type": "code",
   "execution_count": 17,
   "metadata": {},
   "outputs": [
    {
     "name": "stdout",
     "output_type": "stream",
     "text": [
      "Max Sharpe Ratio is: 0.790178\n"
     ]
    },
    {
     "data": {
      "text/html": [
       "<div>\n",
       "<style scoped>\n",
       "    .dataframe tbody tr th:only-of-type {\n",
       "        vertical-align: middle;\n",
       "    }\n",
       "\n",
       "    .dataframe tbody tr th {\n",
       "        vertical-align: top;\n",
       "    }\n",
       "\n",
       "    .dataframe thead th {\n",
       "        text-align: right;\n",
       "    }\n",
       "</style>\n",
       "<table border=\"1\" class=\"dataframe\">\n",
       "  <thead>\n",
       "    <tr style=\"text-align: right;\">\n",
       "      <th>Lookback Period</th>\n",
       "      <th>20</th>\n",
       "      <th>25</th>\n",
       "      <th>30</th>\n",
       "      <th>35</th>\n",
       "      <th>40</th>\n",
       "      <th>45</th>\n",
       "      <th>50</th>\n",
       "      <th>55</th>\n",
       "      <th>60</th>\n",
       "      <th>65</th>\n",
       "      <th>70</th>\n",
       "      <th>75</th>\n",
       "      <th>80</th>\n",
       "      <th>85</th>\n",
       "    </tr>\n",
       "    <tr>\n",
       "      <th>Holding Period</th>\n",
       "      <th></th>\n",
       "      <th></th>\n",
       "      <th></th>\n",
       "      <th></th>\n",
       "      <th></th>\n",
       "      <th></th>\n",
       "      <th></th>\n",
       "      <th></th>\n",
       "      <th></th>\n",
       "      <th></th>\n",
       "      <th></th>\n",
       "      <th></th>\n",
       "      <th></th>\n",
       "      <th></th>\n",
       "    </tr>\n",
       "  </thead>\n",
       "  <tbody>\n",
       "    <tr>\n",
       "      <th>25</th>\n",
       "      <td>0.38918</td>\n",
       "      <td>0.349299</td>\n",
       "      <td>0.790178</td>\n",
       "      <td>0.206502</td>\n",
       "      <td>0.067983</td>\n",
       "      <td>0.09103</td>\n",
       "      <td>0.265792</td>\n",
       "      <td>-0.032107</td>\n",
       "      <td>-0.040272</td>\n",
       "      <td>-0.252065</td>\n",
       "      <td>-0.095353</td>\n",
       "      <td>-0.188435</td>\n",
       "      <td>-0.201547</td>\n",
       "      <td>-0.090584</td>\n",
       "    </tr>\n",
       "  </tbody>\n",
       "</table>\n",
       "</div>"
      ],
      "text/plain": [
       "Lookback Period       20        25        30        35        40       45  \\\n",
       "Holding Period                                                              \n",
       "25               0.38918  0.349299  0.790178  0.206502  0.067983  0.09103   \n",
       "\n",
       "Lookback Period        50        55        60        65        70        75  \\\n",
       "Holding Period                                                                \n",
       "25               0.265792 -0.032107 -0.040272 -0.252065 -0.095353 -0.188435   \n",
       "\n",
       "Lookback Period        80        85  \n",
       "Holding Period                       \n",
       "25              -0.201547 -0.090584  "
      ]
     },
     "execution_count": 17,
     "metadata": {},
     "output_type": "execute_result"
    }
   ],
   "source": [
    "# max for each row\n",
    "maxForRow = ddf.max(axis=0)\n",
    "globalMax = maxForRow.max()\n",
    "print(\"Max Sharpe Ratio is: %f\" % globalMax)\n",
    "ddf[ddf.values==globalMax]"
   ]
  },
  {
   "cell_type": "code",
   "execution_count": 19,
   "metadata": {},
   "outputs": [
    {
     "name": "stdout",
     "output_type": "stream",
     "text": [
      "Min Sharpe Ratio is: -1.167340\n"
     ]
    },
    {
     "data": {
      "text/html": [
       "<div>\n",
       "<style scoped>\n",
       "    .dataframe tbody tr th:only-of-type {\n",
       "        vertical-align: middle;\n",
       "    }\n",
       "\n",
       "    .dataframe tbody tr th {\n",
       "        vertical-align: top;\n",
       "    }\n",
       "\n",
       "    .dataframe thead th {\n",
       "        text-align: right;\n",
       "    }\n",
       "</style>\n",
       "<table border=\"1\" class=\"dataframe\">\n",
       "  <thead>\n",
       "    <tr style=\"text-align: right;\">\n",
       "      <th>Lookback Period</th>\n",
       "      <th>20</th>\n",
       "      <th>25</th>\n",
       "      <th>30</th>\n",
       "      <th>35</th>\n",
       "      <th>40</th>\n",
       "      <th>45</th>\n",
       "      <th>50</th>\n",
       "      <th>55</th>\n",
       "      <th>60</th>\n",
       "      <th>65</th>\n",
       "      <th>70</th>\n",
       "      <th>75</th>\n",
       "      <th>80</th>\n",
       "      <th>85</th>\n",
       "    </tr>\n",
       "    <tr>\n",
       "      <th>Holding Period</th>\n",
       "      <th></th>\n",
       "      <th></th>\n",
       "      <th></th>\n",
       "      <th></th>\n",
       "      <th></th>\n",
       "      <th></th>\n",
       "      <th></th>\n",
       "      <th></th>\n",
       "      <th></th>\n",
       "      <th></th>\n",
       "      <th></th>\n",
       "      <th></th>\n",
       "      <th></th>\n",
       "      <th></th>\n",
       "    </tr>\n",
       "  </thead>\n",
       "  <tbody>\n",
       "    <tr>\n",
       "      <th>80</th>\n",
       "      <td>-0.293358</td>\n",
       "      <td>0.033102</td>\n",
       "      <td>-0.165982</td>\n",
       "      <td>-0.544711</td>\n",
       "      <td>-0.673185</td>\n",
       "      <td>-1.16734</td>\n",
       "      <td>-1.045403</td>\n",
       "      <td>-0.954259</td>\n",
       "      <td>-0.689005</td>\n",
       "      <td>-0.449183</td>\n",
       "      <td>-0.451382</td>\n",
       "      <td>-0.314981</td>\n",
       "      <td>-0.110288</td>\n",
       "      <td>-0.207263</td>\n",
       "    </tr>\n",
       "  </tbody>\n",
       "</table>\n",
       "</div>"
      ],
      "text/plain": [
       "Lookback Period        20        25        30        35        40       45  \\\n",
       "Holding Period                                                               \n",
       "80              -0.293358  0.033102 -0.165982 -0.544711 -0.673185 -1.16734   \n",
       "\n",
       "Lookback Period        50        55        60        65        70        75  \\\n",
       "Holding Period                                                                \n",
       "80              -1.045403 -0.954259 -0.689005 -0.449183 -0.451382 -0.314981   \n",
       "\n",
       "Lookback Period        80        85  \n",
       "Holding Period                       \n",
       "80              -0.110288 -0.207263  "
      ]
     },
     "execution_count": 19,
     "metadata": {},
     "output_type": "execute_result"
    }
   ],
   "source": [
    "# min for each row\n",
    "minForRow = ddf.min(axis=0)\n",
    "globalMin = minForRow.min()\n",
    "print(\"Min Sharpe Ratio is: %f\" % globalMin)\n",
    "ddf[ddf.values==globalMin]"
   ]
  },
  {
   "cell_type": "markdown",
   "metadata": {},
   "source": [
    "As observed from the heatmap above, programmatically searching for maximum and minimum yields the exact same results. \n",
    "A holding period of 25 with lookback period of 30 offers the maximum value with a return of about 35%, whereas a holding period of 80 with a lookback period of 45 offers the minimum value with a return of -95%.\n"
   ]
  },
  {
   "cell_type": "markdown",
   "metadata": {},
   "source": [
    "# Future work/Discussion/Conclusion\n",
    "\n",
    "The Signal analysis was originally developed in the electrical engineering field. Electrical engineers used it to measure electrical behavior by measuring a variable against an independent variable. The signal was used to measure and differentiate between the signal and noise. With the advancements in computing power, this same technique is  applied to the finance industry as signal frontier time series analysis.\n",
    "\n",
    "The signal frontier analysis is used in the technical trading arena where only the performance of the stock is measured. We are able to apply weights and holding periods as signals to tell the trader when to buy, sell or hold a stock. Traders are trying to predict a stock price solely based on the historic prices of said stock. These techniques are used by hedge funds which can trade large volumes of shares quickly generating large returns even on small magins.\n",
    "\n",
    "Although there are many financial benefits while using the signal frontier analysis technique there are also dramatic down falls. As more and more hedge funds and traders adopt this school of thought, technical trading, these results can become amplified. We saw downside of this in 2016 with mass amounts of algorithms were signaled all at once to off load stock. The signals from all of the information can loop on itself and if lots of firms are using the same type of algorithms at the same time then the fluctuation can become greater. This is what happened in 2016. With the mass offloading of shares and no one to buy them, stocks lost a dramatic amount of their value. This lead to the stock price quickly falling and dramatic loss of money.\n"
   ]
  },
  {
   "cell_type": "markdown",
   "metadata": {},
   "source": [
    "# Refrences \n",
    "\n",
    "1. https://sites.tufts.edu/eeseniordesignhandbook/2015/signal-processing-in-finance/\n",
    "2. https://www.washingtonpost.com/news/posteverything/wp/2018/02/07/machines-caused-this-weeks-market-crash-people-caused-the-freak-out-that-followed-it/?noredirect=on&utm_term=.da9d36a8b8fb\n",
    "3. http://www.efficientfrontier.com/ef/999/noise.htm"
   ]
  },
  {
   "cell_type": "code",
   "execution_count": null,
   "metadata": {},
   "outputs": [],
   "source": []
  }
 ],
 "metadata": {
  "kernelspec": {
   "display_name": "Python 3",
   "language": "python",
   "name": "python3"
  },
  "language_info": {
   "codemirror_mode": {
    "name": "ipython",
    "version": 3
   },
   "file_extension": ".py",
   "mimetype": "text/x-python",
   "name": "python",
   "nbconvert_exporter": "python",
   "pygments_lexer": "ipython3",
   "version": "3.5.6"
  }
 },
 "nbformat": 4,
 "nbformat_minor": 2
}
